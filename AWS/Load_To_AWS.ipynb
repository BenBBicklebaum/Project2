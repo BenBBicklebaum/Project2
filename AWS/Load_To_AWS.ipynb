{
 "cells": [
  {
   "cell_type": "code",
   "execution_count": 1,
   "metadata": {},
   "outputs": [],
   "source": [
    "# SQL ALchemy \n",
    "from sqlalchemy import create_engine\n",
    "\n",
    "# Import PyMySQL\n",
    "import pymysql\n",
    "pymysql.install_as_MySQLdb()\n",
    "\n",
    "# Config Variables \n",
    "from config import remote_db_endpoint, remote_db_port\n",
    "from config import remote_gwsis_dbname, remote_gwsis_dbuser, remote_gwsis_dbpwd\n",
    "from config import local_db_user, local_db_pwd, local_db_endpoint, local_db_port, local_db_name\n",
    "\n",
    "# Import Pandas \n",
    "import pandas as pd"
   ]
  },
  {
   "cell_type": "code",
   "execution_count": 3,
   "metadata": {},
   "outputs": [],
   "source": [
    "# Create engine and pass mySQL connnection \n",
    "\n",
    "# CSV Files\n",
    "# income_csv = \"Resources/Annual_Avg_Pay.csv\"\n",
    "# income_df = pd.read_csv(income_csv)\n",
    "\n",
    "# unemployment_csv = \"Resources/unemployment_rate.csv\"\n",
    "# unemployment_df = pd.read_csv(unemployment_csv)\n",
    "\n",
    "# education_csv = \"Resources/education_cleaner.csv\"\n",
    "# education_df = pd.read_csv(education_csv)\n",
    "\n",
    "# hiv_rates_csv = \"Resources/New_HIV_Case_Rates.csv\"\n",
    "# hiv_rates_df = pd.read_csv(hiv_rates_csv)\n",
    "\n",
    "hiv_cases_csv = \"Resources/USHIVCases_clean.csv\"\n",
    "hiv_cases_df = pd.read_csv(hiv_cases_csv)\n",
    "\n",
    "# Cloud MySQl database connection on AWS\n",
    "engine = create_engine(f\"mysql://{remote_gwsis_dbuser}:{remote_gwsis_dbpwd}@{remote_db_endpoint}:{remote_db_port}/{remote_gwsis_dbname}\")"
   ]
  },
  {
   "cell_type": "code",
   "execution_count": 4,
   "metadata": {},
   "outputs": [],
   "source": [
    "# Create remote database engine connection \n",
    "conn = engine.connect()"
   ]
  },
  {
   "cell_type": "code",
   "execution_count": 5,
   "metadata": {},
   "outputs": [],
   "source": [
    "# Dataframe to SQL\n",
    "# income_df.to_sql(name='income_data', if_exists='append', con=conn, chunksize=500, index=False)\n",
    "\n",
    "# unemployment_df.to_sql(name='unemployment_data', if_exists='append', con=conn, chunksize=500, index=False)\n",
    "\n",
    "# education_df.to_sql(name='education_data', if_exists='append', con=conn, chunksize=500, index=False)\n",
    "\n",
    "# hiv_rates_df.to_sql(name='hiv_rates_data', if_exists='append', con=conn, chunksize=500, index=False)\n",
    "\n",
    "hiv_cases_df.to_sql(name='hiv_cases_data', if_exists='append', con=conn, chunksize=500, index=False)\n"
   ]
  },
  {
   "cell_type": "code",
   "execution_count": null,
   "metadata": {},
   "outputs": [],
   "source": [
    "remote_income_data = pd.read_sql(\"SELECT * FROM income_data\", conn)\n",
    "print(len(remote_income_data))\n",
    "remote_income_data.head()"
   ]
  },
  {
   "cell_type": "code",
   "execution_count": null,
   "metadata": {},
   "outputs": [],
   "source": [
    "remote_unemployment_data = pd.read_sql(\"SELECT * FROM unemployment_data\", conn)\n",
    "print(len(remote_unemployment_data))\n",
    "remote_unemployment_data.head()"
   ]
  },
  {
   "cell_type": "code",
   "execution_count": null,
   "metadata": {},
   "outputs": [],
   "source": [
    "remote_education_data = pd.read_sql(\"SELECT * FROM education_data\", conn)\n",
    "print(len(remote_education_data))\n",
    "remote_education_data.head()"
   ]
  },
  {
   "cell_type": "code",
   "execution_count": null,
   "metadata": {},
   "outputs": [],
   "source": [
    "remote_hiv_rates_data = pd.read_sql(\"SELECT * FROM hiv_rates_data\", conn)\n",
    "print(len(remote_hiv_rates_data))\n",
    "remote_hiv_rates_data.head()"
   ]
  },
  {
   "cell_type": "code",
   "execution_count": 6,
   "metadata": {},
   "outputs": [
    {
     "name": "stdout",
     "output_type": "stream",
     "text": [
      "1\n"
     ]
    },
    {
     "data": {
      "text/html": [
       "<div>\n",
       "<style scoped>\n",
       "    .dataframe tbody tr th:only-of-type {\n",
       "        vertical-align: middle;\n",
       "    }\n",
       "\n",
       "    .dataframe tbody tr th {\n",
       "        vertical-align: top;\n",
       "    }\n",
       "\n",
       "    .dataframe thead th {\n",
       "        text-align: right;\n",
       "    }\n",
       "</style>\n",
       "<table border=\"1\" class=\"dataframe\">\n",
       "  <thead>\n",
       "    <tr style=\"text-align: right;\">\n",
       "      <th></th>\n",
       "      <th>Name</th>\n",
       "      <th>2008</th>\n",
       "      <th>2009</th>\n",
       "      <th>2010</th>\n",
       "      <th>2011</th>\n",
       "      <th>2012</th>\n",
       "      <th>2013</th>\n",
       "      <th>2014</th>\n",
       "      <th>2015</th>\n",
       "      <th>2016</th>\n",
       "      <th>2017</th>\n",
       "      <th>2018</th>\n",
       "    </tr>\n",
       "  </thead>\n",
       "  <tbody>\n",
       "    <tr>\n",
       "      <th>0</th>\n",
       "      <td>US</td>\n",
       "      <td>47290</td>\n",
       "      <td>44751</td>\n",
       "      <td>43067</td>\n",
       "      <td>41311</td>\n",
       "      <td>40529</td>\n",
       "      <td>39230</td>\n",
       "      <td>39963</td>\n",
       "      <td>39796</td>\n",
       "      <td>39520</td>\n",
       "      <td>38226</td>\n",
       "      <td>37286</td>\n",
       "    </tr>\n",
       "  </tbody>\n",
       "</table>\n",
       "</div>"
      ],
      "text/plain": [
       "  Name   2008   2009   2010   2011   2012   2013   2014   2015   2016   2017  \\\n",
       "0   US  47290  44751  43067  41311  40529  39230  39963  39796  39520  38226   \n",
       "\n",
       "    2018  \n",
       "0  37286  "
      ]
     },
     "execution_count": 6,
     "metadata": {},
     "output_type": "execute_result"
    }
   ],
   "source": [
    "remote_hiv_cases_data = pd.read_sql(\"SELECT * FROM hiv_cases_data\", conn)\n",
    "print(len(remote_hiv_cases_data))\n",
    "remote_hiv_cases_data.head()"
   ]
  }
 ],
 "metadata": {
  "kernelspec": {
   "display_name": "Python 3",
   "language": "python",
   "name": "python3"
  },
  "language_info": {
   "codemirror_mode": {
    "name": "ipython",
    "version": 3
   },
   "file_extension": ".py",
   "mimetype": "text/x-python",
   "name": "python",
   "nbconvert_exporter": "python",
   "pygments_lexer": "ipython3",
   "version": "3.7.3"
  }
 },
 "nbformat": 4,
 "nbformat_minor": 2
}
