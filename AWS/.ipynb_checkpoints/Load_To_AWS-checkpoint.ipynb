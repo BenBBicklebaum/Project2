{
 "cells": [
  {
   "cell_type": "code",
   "execution_count": null,
   "metadata": {},
   "outputs": [],
   "source": [
    "# SQL ALchemy \n",
    "from sqlalchemy import create_engine\n",
    "\n",
    "# Import PyMySQL\n",
    "import pymysql\n",
    "pymysql.install_as_MySQLdb()\n",
    "\n",
    "# Config Variables \n",
    "from config import remote_db_endpoint, remote_db_port\n",
    "from config import remote_gwsis_dbname, remote_gwsis_dbuser, remote_gwsis_dbpwd\n",
    "from config import local_db_user, local_db_pwd, local_db_endpoint, local_db_port, local_db_name\n",
    "\n",
    "# Import Pandas \n",
    "import pandas as pd"
   ]
  },
  {
   "cell_type": "code",
   "execution_count": null,
   "metadata": {},
   "outputs": [],
   "source": [
    "# Create engine and pass mySQL connnection \n",
    "\n",
    "# CSV Files\n",
    "income_csv = \"Resources/Annual_Avg_Pay.csv\"\n",
    "income_df = pd.read_csv(income_csv)\n",
    "\n",
    "unemployment_csv = \"Resources/unemployment_rate.csv\"\n",
    "unemployment_df = pd.read_csv(unemployment_csv)\n",
    "\n",
    "education_csv = \"Resources/education_cleaner.csv\"\n",
    "education_df = pd.read_csv(education_csv)\n",
    "\n",
    "hiv_rates_csv = \"Resources/New_HIV_Case_Rates.csv\"\n",
    "hiv_rates_df = pd.read_csv(hiv_rates_csv)\n",
    "\n",
    "hiv_cases_csv = \"Resources/USHIVCases_clean.csv\"\n",
    "hiv_cases_df = pd.read_csv(hiv_cases_csv)\n",
    "\n",
    "# Cloud MySQl database connection on AWS\n",
    "engine = create_engine(f\"mysql://{remote_gwsis_dbuser}:{remote_gwsis_dbpwd}@{remote_db_endpoint}:{remote_db_port}/{remote_gwsis_dbname}\")"
   ]
  },
  {
   "cell_type": "code",
   "execution_count": null,
   "metadata": {},
   "outputs": [],
   "source": [
    "# Create remote database engine connection \n",
    "conn = engine.connect()"
   ]
  },
  {
   "cell_type": "code",
   "execution_count": null,
   "metadata": {},
   "outputs": [],
   "source": [
    "# Dataframe to SQL\n",
    "income_df.to_sql(name='income_data', if_exists='append', con=conn, chunksize=500, index=False)\n",
    "\n",
    "unemployment_df.to_sql(name='unemployment_data', if_exists='append', con=conn, chunksize=500, index=False)\n",
    "\n",
    "education_df.to_sql(name='education_data', if_exists='append', con=conn, chunksize=500, index=False)\n",
    "\n",
    "hiv_rates_df.to_sql(name='hiv_rates_data', if_exists='append', con=conn, chunksize=500, index=False)\n",
    "\n",
    "hiv_cases_df.to_sql(name='hiv_cases_data', if_exists='append', con=conn, chunksize=500, index=False)\n"
   ]
  },
  {
   "cell_type": "code",
   "execution_count": null,
   "metadata": {},
   "outputs": [],
   "source": [
    "remote_income_data = pd.read_sql(\"SELECT * FROM income_data\", conn)\n",
    "print(len(remote_income_data))\n",
    "remote_income_data.head()"
   ]
  },
  {
   "cell_type": "code",
   "execution_count": null,
   "metadata": {},
   "outputs": [],
   "source": [
    "remote_unemployment_data = pd.read_sql(\"SELECT * FROM unemployment_data\", conn)\n",
    "print(len(remote_unemployment_data))\n",
    "remote_unemployment_data.head()"
   ]
  },
  {
   "cell_type": "code",
   "execution_count": null,
   "metadata": {},
   "outputs": [],
   "source": [
    "remote_education_data = pd.read_sql(\"SELECT * FROM education_data\", conn)\n",
    "print(len(remote_education_data))\n",
    "remote_education_data.head()"
   ]
  },
  {
   "cell_type": "code",
   "execution_count": null,
   "metadata": {},
   "outputs": [],
   "source": [
    "remote_hiv_rates_data = pd.read_sql(\"SELECT * FROM hiv_rates_data\", conn)\n",
    "print(len(remote_hiv_rates_data))\n",
    "remote_hiv_rates_data.head()"
   ]
  },
  {
   "cell_type": "code",
   "execution_count": null,
   "metadata": {},
   "outputs": [],
   "source": [
    "remote_hiv_cases_data = pd.read_sql(\"SELECT * FROM hiv_cases_data\", conn)\n",
    "print(len(remote_hiv_cases_data))\n",
    "remote_hiv_cases_data.head()"
   ]
  }
 ],
 "metadata": {
  "kernelspec": {
   "display_name": "Python 3",
   "language": "python",
   "name": "python3"
  },
  "language_info": {
   "codemirror_mode": {
    "name": "ipython",
    "version": 3
   },
   "file_extension": ".py",
   "mimetype": "text/x-python",
   "name": "python",
   "nbconvert_exporter": "python",
   "pygments_lexer": "ipython3",
   "version": "3.7.3"
  }
 },
 "nbformat": 4,
 "nbformat_minor": 2
}
