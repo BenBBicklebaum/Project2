{
 "cells": [
  {
   "cell_type": "code",
   "execution_count": 1,
   "metadata": {},
   "outputs": [],
   "source": [
    "# SQL ALchemy \n",
    "from sqlalchemy import create_engine\n",
    "\n",
    "# Import PyMySQL\n",
    "import pymysql\n",
    "pymysql.install_as_MySQLdb()\n",
    "\n",
    "# Config Variables \n",
    "from config import remote_db_endpoint, remote_db_port\n",
    "from config import remote_gwsis_dbname, remote_gwsis_dbuser, remote_gwsis_dbpwd\n",
    "from config import local_db_user, local_db_pwd, local_db_endpoint, local_db_port, local_db_name\n",
    "\n",
    "# Import Pandas \n",
    "import pandas as pd"
   ]
  },
  {
   "cell_type": "code",
   "execution_count": 2,
   "metadata": {},
   "outputs": [],
   "source": [
    "# Create engine and pass mySQL connnection \n",
    "\n",
    "# CSV Files\n",
    "# income_csv = \"Resources/Annual_Avg_Pay.csv\"\n",
    "# income_df = pd.read_csv(income_csv)\n",
    "\n",
    "# unemployment_csv = \"Resources/unemployment_rate.csv\"\n",
    "# unemployment_df = pd.read_csv(unemployment_csv)\n",
    "\n",
    "# education_csv = \"Resources/education_cleaner.csv\"\n",
    "# education_df = pd.read_csv(education_csv)\n",
    "\n",
    "hiv_rates_csv = \"Resources/New_HIV_Case_Rates.csv\"\n",
    "hiv_rates_df = pd.read_csv(hiv_rates_csv)\n",
    "\n",
    "# hiv_cases_csv = \"Resources/USHIVCases_clean.csv\"\n",
    "# hiv_cases_df = pd.read_csv(hiv_cases_csv)\n",
    "\n",
    "# Cloud MySQl database connection on AWS\n",
    "engine = create_engine(f\"mysql://{remote_gwsis_dbuser}:{remote_gwsis_dbpwd}@{remote_db_endpoint}:{remote_db_port}/{remote_gwsis_dbname}\")"
   ]
  },
  {
   "cell_type": "code",
   "execution_count": 3,
   "metadata": {},
   "outputs": [],
   "source": [
    "# Create remote database engine connection \n",
    "conn = engine.connect()"
   ]
  },
  {
   "cell_type": "code",
   "execution_count": 4,
   "metadata": {},
   "outputs": [],
   "source": [
    "# Dataframe to SQL\n",
    "# income_df.to_sql(name='income_data', if_exists='append', con=conn, chunksize=500, index=False)\n",
    "\n",
    "# unemployment_df.to_sql(name='unemployment_data', if_exists='append', con=conn, chunksize=500, index=False)\n",
    "\n",
    "# education_df.to_sql(name='education_data', if_exists='append', con=conn, chunksize=500, index=False)\n",
    "\n",
    "hiv_rates_df.to_sql(name='hiv_rates_data', if_exists='append', con=conn, chunksize=500, index=False)\n",
    "\n",
    "# hiv_cases_df.to_sql(name='hiv_cases_data', if_exists='append', con=conn, chunksize=500, index=False)\n"
   ]
  },
  {
   "cell_type": "code",
   "execution_count": null,
   "metadata": {},
   "outputs": [],
   "source": [
    "remote_income_data = pd.read_sql(\"SELECT * FROM income_data\", conn)\n",
    "print(len(remote_income_data))\n",
    "remote_income_data.head()"
   ]
  },
  {
   "cell_type": "code",
   "execution_count": null,
   "metadata": {},
   "outputs": [],
   "source": [
    "remote_unemployment_data = pd.read_sql(\"SELECT * FROM unemployment_data\", conn)\n",
    "print(len(remote_unemployment_data))\n",
    "remote_unemployment_data.head()"
   ]
  },
  {
   "cell_type": "code",
   "execution_count": null,
   "metadata": {},
   "outputs": [],
   "source": [
    "remote_education_data = pd.read_sql(\"SELECT * FROM education_data\", conn)\n",
    "print(len(remote_education_data))\n",
    "remote_education_data.head()"
   ]
  },
  {
   "cell_type": "code",
   "execution_count": 5,
   "metadata": {},
   "outputs": [
    {
     "name": "stdout",
     "output_type": "stream",
     "text": [
      "51\n"
     ]
    },
    {
     "data": {
      "text/html": [
       "<div>\n",
       "<style scoped>\n",
       "    .dataframe tbody tr th:only-of-type {\n",
       "        vertical-align: middle;\n",
       "    }\n",
       "\n",
       "    .dataframe tbody tr th {\n",
       "        vertical-align: top;\n",
       "    }\n",
       "\n",
       "    .dataframe thead th {\n",
       "        text-align: right;\n",
       "    }\n",
       "</style>\n",
       "<table border=\"1\" class=\"dataframe\">\n",
       "  <thead>\n",
       "    <tr style=\"text-align: right;\">\n",
       "      <th></th>\n",
       "      <th>Name</th>\n",
       "      <th>New HIV Case Rate 2008-2012</th>\n",
       "      <th>New HIV Case Rate 2013-2018</th>\n",
       "      <th>New HIV Case Rate Variance</th>\n",
       "    </tr>\n",
       "  </thead>\n",
       "  <tbody>\n",
       "    <tr>\n",
       "      <th>0</th>\n",
       "      <td>Alabama</td>\n",
       "      <td>1.438535e+11</td>\n",
       "      <td>13.219613</td>\n",
       "      <td>1.165738</td>\n",
       "    </tr>\n",
       "    <tr>\n",
       "      <th>1</th>\n",
       "      <td>Alaska</td>\n",
       "      <td>4.147444e+10</td>\n",
       "      <td>3.996431</td>\n",
       "      <td>0.151014</td>\n",
       "    </tr>\n",
       "    <tr>\n",
       "      <th>2</th>\n",
       "      <td>Arizona</td>\n",
       "      <td>9.750057e+10</td>\n",
       "      <td>10.556607</td>\n",
       "      <td>-0.806551</td>\n",
       "    </tr>\n",
       "    <tr>\n",
       "      <th>3</th>\n",
       "      <td>Arkansas</td>\n",
       "      <td>8.503143e+10</td>\n",
       "      <td>9.644722</td>\n",
       "      <td>-1.141579</td>\n",
       "    </tr>\n",
       "    <tr>\n",
       "      <th>4</th>\n",
       "      <td>California</td>\n",
       "      <td>1.422300e+11</td>\n",
       "      <td>12.548216</td>\n",
       "      <td>1.674786</td>\n",
       "    </tr>\n",
       "  </tbody>\n",
       "</table>\n",
       "</div>"
      ],
      "text/plain": [
       "         Name  New HIV Case Rate 2008-2012  New HIV Case Rate 2013-2018  \\\n",
       "0     Alabama                 1.438535e+11                    13.219613   \n",
       "1      Alaska                 4.147444e+10                     3.996431   \n",
       "2     Arizona                 9.750057e+10                    10.556607   \n",
       "3    Arkansas                 8.503143e+10                     9.644722   \n",
       "4  California                 1.422300e+11                    12.548216   \n",
       "\n",
       "   New HIV Case Rate Variance  \n",
       "0                    1.165738  \n",
       "1                    0.151014  \n",
       "2                   -0.806551  \n",
       "3                   -1.141579  \n",
       "4                    1.674786  "
      ]
     },
     "execution_count": 5,
     "metadata": {},
     "output_type": "execute_result"
    }
   ],
   "source": [
    "remote_hiv_rates_data = pd.read_sql(\"SELECT * FROM hiv_rates_data\", conn)\n",
    "print(len(remote_hiv_rates_data))\n",
    "remote_hiv_rates_data.head()"
   ]
  },
  {
   "cell_type": "code",
   "execution_count": null,
   "metadata": {},
   "outputs": [],
   "source": [
    "remote_hiv_cases_data = pd.read_sql(\"SELECT * FROM hiv_cases_data\", conn)\n",
    "print(len(remote_hiv_cases_data))\n",
    "remote_hiv_cases_data.head()"
   ]
  }
 ],
 "metadata": {
  "kernelspec": {
   "display_name": "Python 3",
   "language": "python",
   "name": "python3"
  },
  "language_info": {
   "codemirror_mode": {
    "name": "ipython",
    "version": 3
   },
   "file_extension": ".py",
   "mimetype": "text/x-python",
   "name": "python",
   "nbconvert_exporter": "python",
   "pygments_lexer": "ipython3",
   "version": "3.7.3"
  }
 },
 "nbformat": 4,
 "nbformat_minor": 2
}
