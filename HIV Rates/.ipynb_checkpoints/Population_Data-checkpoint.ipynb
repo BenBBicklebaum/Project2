{
 "cells": [
  {
   "cell_type": "code",
   "execution_count": 1,
   "metadata": {},
   "outputs": [],
   "source": [
    "from bs4 import BeautifulSoup\n",
    "import requests\n",
    "import pymongo\n",
    "from splinter import Browser\n",
    "import pandas as pd"
   ]
  },
  {
   "cell_type": "code",
   "execution_count": 2,
   "metadata": {},
   "outputs": [
    {
     "data": {
      "text/html": [
       "<div>\n",
       "<style scoped>\n",
       "    .dataframe tbody tr th:only-of-type {\n",
       "        vertical-align: middle;\n",
       "    }\n",
       "\n",
       "    .dataframe tbody tr th {\n",
       "        vertical-align: top;\n",
       "    }\n",
       "\n",
       "    .dataframe thead th {\n",
       "        text-align: right;\n",
       "    }\n",
       "</style>\n",
       "<table border=\"1\" class=\"dataframe\">\n",
       "  <thead>\n",
       "    <tr style=\"text-align: right;\">\n",
       "      <th></th>\n",
       "      <th>Name</th>\n",
       "      <th>2008_Cases</th>\n",
       "      <th>2009_Cases</th>\n",
       "      <th>2010_Cases</th>\n",
       "      <th>2011_Cases</th>\n",
       "      <th>2012_Cases</th>\n",
       "      <th>2013_Cases</th>\n",
       "      <th>2014_Cases</th>\n",
       "      <th>2015_Cases</th>\n",
       "      <th>2016_Cases</th>\n",
       "      <th>2017_Cases</th>\n",
       "      <th>2018_Cases</th>\n",
       "    </tr>\n",
       "  </thead>\n",
       "  <tbody>\n",
       "    <tr>\n",
       "      <th>0</th>\n",
       "      <td>Alabama</td>\n",
       "      <td>709</td>\n",
       "      <td>695</td>\n",
       "      <td>681</td>\n",
       "      <td>683</td>\n",
       "      <td>666</td>\n",
       "      <td>635</td>\n",
       "      <td>669</td>\n",
       "      <td>663</td>\n",
       "      <td>663</td>\n",
       "      <td>651</td>\n",
       "      <td>572</td>\n",
       "    </tr>\n",
       "    <tr>\n",
       "      <th>1</th>\n",
       "      <td>Alaska</td>\n",
       "      <td>39</td>\n",
       "      <td>21</td>\n",
       "      <td>35</td>\n",
       "      <td>24</td>\n",
       "      <td>28</td>\n",
       "      <td>23</td>\n",
       "      <td>38</td>\n",
       "      <td>25</td>\n",
       "      <td>37</td>\n",
       "      <td>34</td>\n",
       "      <td>20</td>\n",
       "    </tr>\n",
       "    <tr>\n",
       "      <th>2</th>\n",
       "      <td>Arizona</td>\n",
       "      <td>679</td>\n",
       "      <td>642</td>\n",
       "      <td>619</td>\n",
       "      <td>563</td>\n",
       "      <td>620</td>\n",
       "      <td>689</td>\n",
       "      <td>741</td>\n",
       "      <td>690</td>\n",
       "      <td>714</td>\n",
       "      <td>725</td>\n",
       "      <td>806</td>\n",
       "    </tr>\n",
       "    <tr>\n",
       "      <th>3</th>\n",
       "      <td>Arkansas</td>\n",
       "      <td>238</td>\n",
       "      <td>280</td>\n",
       "      <td>234</td>\n",
       "      <td>241</td>\n",
       "      <td>247</td>\n",
       "      <td>262</td>\n",
       "      <td>312</td>\n",
       "      <td>273</td>\n",
       "      <td>312</td>\n",
       "      <td>287</td>\n",
       "      <td>281</td>\n",
       "    </tr>\n",
       "    <tr>\n",
       "      <th>4</th>\n",
       "      <td>California</td>\n",
       "      <td>5719</td>\n",
       "      <td>5417</td>\n",
       "      <td>5272</td>\n",
       "      <td>5044</td>\n",
       "      <td>5050</td>\n",
       "      <td>4711</td>\n",
       "      <td>5169</td>\n",
       "      <td>5108</td>\n",
       "      <td>5172</td>\n",
       "      <td>4766</td>\n",
       "      <td>4398</td>\n",
       "    </tr>\n",
       "  </tbody>\n",
       "</table>\n",
       "</div>"
      ],
      "text/plain": [
       "         Name  2008_Cases  2009_Cases  2010_Cases  2011_Cases  2012_Cases  \\\n",
       "0     Alabama         709         695         681         683         666   \n",
       "1      Alaska          39          21          35          24          28   \n",
       "2     Arizona         679         642         619         563         620   \n",
       "3    Arkansas         238         280         234         241         247   \n",
       "4  California        5719        5417        5272        5044        5050   \n",
       "\n",
       "   2013_Cases  2014_Cases  2015_Cases  2016_Cases  2017_Cases  2018_Cases  \n",
       "0         635         669         663         663         651         572  \n",
       "1          23          38          25          37          34          20  \n",
       "2         689         741         690         714         725         806  \n",
       "3         262         312         273         312         287         281  \n",
       "4        4711        5169        5108        5172        4766        4398  "
      ]
     },
     "execution_count": 2,
     "metadata": {},
     "output_type": "execute_result"
    }
   ],
   "source": [
    "cases = 'CasesData.csv'\n",
    "cases_df =  pd.read_csv(cases)\n",
    "cases_df.head()"
   ]
  },
  {
   "cell_type": "code",
   "execution_count": 3,
   "metadata": {},
   "outputs": [],
   "source": [
    "years = [\"2008\", \"2009\", \"2010\", \"2011\", \"2012\", \"2013\", \"2014\", \"2015\", \"2016\", \"2017\", \"2018\"]\n",
    "urls = ['https://fred.stlouisfed.org/release/tables?rid=118&eid=259194&od=2008-01-01#','https://fred.stlouisfed.org/release/tables?rid=118&eid=259194&od=2009-01-01#','https://fred.stlouisfed.org/release/tables?rid=118&eid=259194&od=2010-01-01#','https://fred.stlouisfed.org/release/tables?rid=118&eid=259194&od=2011-01-01#','https://fred.stlouisfed.org/release/tables?rid=118&eid=259194&od=2013-01-01#','https://fred.stlouisfed.org/release/tables?rid=118&eid=259194&od=2014-01-01#','https://fred.stlouisfed.org/release/tables?rid=118&eid=259194&od=2015-01-01#','https://fred.stlouisfed.org/release/tables?rid=118&eid=259194&od=2016-01-01#','https://fred.stlouisfed.org/release/tables?rid=118&eid=259194&od=2017-01-01#','https://fred.stlouisfed.org/release/tables?rid=118&eid=259194&od=2018-01-01#']"
   ]
  },
  {
   "cell_type": "code",
   "execution_count": 4,
   "metadata": {},
   "outputs": [
    {
     "name": "stdout",
     "output_type": "stream",
     "text": [
      "https://fred.stlouisfed.org/release/tables?rid=118&eid=259194&od=2008-01-01#\n",
      "https://fred.stlouisfed.org/release/tables?rid=118&eid=259194&od=2009-01-01#\n",
      "https://fred.stlouisfed.org/release/tables?rid=118&eid=259194&od=2010-01-01#\n",
      "https://fred.stlouisfed.org/release/tables?rid=118&eid=259194&od=2011-01-01#\n",
      "https://fred.stlouisfed.org/release/tables?rid=118&eid=259194&od=2012-01-01#\n",
      "https://fred.stlouisfed.org/release/tables?rid=118&eid=259194&od=2013-01-01#\n",
      "https://fred.stlouisfed.org/release/tables?rid=118&eid=259194&od=2014-01-01#\n",
      "https://fred.stlouisfed.org/release/tables?rid=118&eid=259194&od=2015-01-01#\n",
      "https://fred.stlouisfed.org/release/tables?rid=118&eid=259194&od=2016-01-01#\n",
      "https://fred.stlouisfed.org/release/tables?rid=118&eid=259194&od=2017-01-01#\n",
      "https://fred.stlouisfed.org/release/tables?rid=118&eid=259194&od=2018-01-01#\n"
     ]
    }
   ],
   "source": [
    "for year in years:\n",
    "    if year != \"2018\":\n",
    "        url = f'https://fred.stlouisfed.org/release/tables?rid=118&eid=259194&od={year}-01-01#'\n",
    "        print(url)\n",
    "        tables = pd.read_html(url)\n",
    "        pop_df = pd.DataFrame(tables[0])\n",
    "        pop_df = pop_df.iloc[:, [1,2]]\n",
    "        pop_df.columns = pop_df.columns.droplevel(0)\n",
    "        pop_df.drop(pop_df[pop_df['Name'] == \"FRB-St. Louis District States\"].index, inplace=True)\n",
    "        pop_df[year] *= 1000\n",
    "        cases_df = pd.merge(cases_df, pop_df, how='left', on='Name', sort=False)\n",
    "        cases_df[f\"{year} HIV Rate\"] = cases_df[f\"{year}_Cases\"] / cases_df[year]\n",
    "        cases_df.drop([f\"{year}_Cases\", year], axis=1, inplace=True)\n",
    "    else:\n",
    "        url = f'https://fred.stlouisfed.org/release/tables?rid=118&eid=259194&od={year}-01-01#'\n",
    "        print(url)\n",
    "        tables = pd.read_html(url)\n",
    "        pop_df = pd.DataFrame(tables[0])\n",
    "        pop_df = pop_df.iloc[:, [1,3]]\n",
    "        pop_df.rename(columns={\"Value\": \"2018\"}, inplace=True)\n",
    "        pop_df.columns = pop_df.columns.droplevel(0)\n",
    "        pop_df.drop(pop_df[pop_df['Name'] == \"FRB-St. Louis District States\"].index, inplace=True)\n",
    "        pop_df[\"2018\"] = pop_df[\"2018\"].astype(float)\n",
    "        pop_df[\"Name\"] = pop_df[\"Name\"].astype(str)\n",
    "        pop_df[\"2018\"] *= 1000\n",
    "        cases_df = pd.merge(cases_df, pop_df, how='left', on='Name', sort=False)\n",
    "        cases_df[f\"{year} HIV Rate\"] = cases_df[f\"{year}_Cases\"] / cases_df[year]\n",
    "        cases_df.drop([f\"{year}_Cases\", year], axis=1, inplace=True)        "
   ]
  },
  {
   "cell_type": "code",
   "execution_count": null,
   "metadata": {},
   "outputs": [],
   "source": [
    "cases_df.head()\n",
    "#print(pop_df)"
   ]
  },
  {
   "cell_type": "code",
   "execution_count": null,
   "metadata": {},
   "outputs": [],
   "source": [
    "cases_df['New HIV Case Rate 2008-2012'] = cases_df[['2008 HIV Rate','2009 HIV Rate','2010 HIV Rate','2011 HIV Rate','2012 HIV Rate']].mean(axis=1)\n",
    "cases_df['New HIV Case Rate 2013-2018'] = cases_df[['2013 HIV Rate','2014 HIV Rate','2015 HIV Rate','2016 HIV Rate','2017 HIV Rate','2018 HIV Rate']].mean(axis=1)\n",
    "cases_df = cases_df.drop(['2008 HIV Rate','2009 HIV Rate','2010 HIV Rate','2011 HIV Rate','2012 HIV Rate','2013 HIV Rate','2014 HIV Rate','2015 HIV Rate','2016 HIV Rate','2017 HIV Rate','2018 HIV Rate'], axis=1)\n",
    "cases_df.head()"
   ]
  },
  {
   "cell_type": "code",
   "execution_count": null,
   "metadata": {},
   "outputs": [],
   "source": [
    "cases_df[\"New HIV Case Rate Variance\"] = cases_df[\"New HIV Case Rate 2008-2012\"] - cases_df[\"New HIV Case Rate 2013-2018\"]\n",
    "cases_df.head()"
   ]
  },
  {
   "cell_type": "code",
   "execution_count": null,
   "metadata": {},
   "outputs": [],
   "source": [
    "cases_df.dtypes"
   ]
  },
  {
   "cell_type": "code",
   "execution_count": null,
   "metadata": {},
   "outputs": [],
   "source": [
    "cases_df['New HIV Case Rate 2008-2012'] = cases_df['New HIV Case Rate 2008-2012'].apply(lambda x: x*100000)\n",
    "cases_df['New HIV Case Rate 2013-2018'] = cases_df['New HIV Case Rate 2013-2018'].apply(lambda x: x*100000)\n",
    "cases_df['New HIV Case Rate Variance'] = cases_df['New HIV Case Rate Variance'].apply(lambda x: x*100000)\n",
    "\n",
    "# new_case_df = case_df.loc['New HIV Case Rate 2008-2012', 'New HIV Case Rate 2013-2018', 'New HIV Case Rate Variance'] *= 100000\n",
    "# new_cases_df = cases_df.select_dtypes(include=['float64']).mul(100000)\n",
    "# new_cases_df = cases_df.mul(100000)\n",
    "\n",
    "cases_df.head()"
   ]
  },
  {
   "cell_type": "code",
   "execution_count": null,
   "metadata": {},
   "outputs": [],
   "source": [
    "cases_df.to_csv(\"New_HIV_Case_Rates.csv\", index=False)"
   ]
  },
  {
   "cell_type": "code",
   "execution_count": null,
   "metadata": {},
   "outputs": [],
   "source": []
  }
 ],
 "metadata": {
  "kernelspec": {
   "display_name": "Python 3",
   "language": "python",
   "name": "python3"
  },
  "language_info": {
   "codemirror_mode": {
    "name": "ipython",
    "version": 3
   },
   "file_extension": ".py",
   "mimetype": "text/x-python",
   "name": "python",
   "nbconvert_exporter": "python",
   "pygments_lexer": "ipython3",
   "version": "3.7.3"
  }
 },
 "nbformat": 4,
 "nbformat_minor": 2
}
