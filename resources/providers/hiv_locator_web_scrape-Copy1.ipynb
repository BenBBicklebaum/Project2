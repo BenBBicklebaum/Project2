{
 "cells": [
  {
   "cell_type": "code",
   "execution_count": null,
   "metadata": {},
   "outputs": [],
   "source": [
    "# Dependencies\n",
    "from bs4 import BeautifulSoup as bs\n",
    "import requests\n",
    "import pandas as pd\n",
    "import numpy as np\n",
    "from splinter import Browser\n",
    "from splinter.exceptions import ElementDoesNotExist\n",
    "import time"
   ]
  },
  {
   "cell_type": "code",
   "execution_count": null,
   "metadata": {},
   "outputs": [],
   "source": [
    "#https://splinter.readthedocs.io/en/latest/drivers/chrome.html\n",
    "!which chromedriver"
   ]
  },
  {
   "cell_type": "code",
   "execution_count": null,
   "metadata": {},
   "outputs": [],
   "source": [
    "executable_path = {'executable_path': '/usr/local/bin/chromedriver'}\n",
    "browser = Browser('chrome', **executable_path, headless=False)"
   ]
  },
  {
   "cell_type": "code",
   "execution_count": null,
   "metadata": {},
   "outputs": [],
   "source": [
    "# URL of page to be scraped\n",
    "url = 'https://npin.cdc.gov/search/organization/testing/hiv'\n",
    "#adding in splinter needed item\n",
    "browser.visit(url)\n",
    "\n",
    "#Scrape by state search function"
   ]
  },
  {
   "cell_type": "code",
   "execution_count": null,
   "metadata": {},
   "outputs": [],
   "source": [
    "# Retrieve page with the requests module\n",
    "response = requests.get(url)\n",
    "print(response.text)"
   ]
  },
  {
   "cell_type": "code",
   "execution_count": null,
   "metadata": {},
   "outputs": [],
   "source": [
    "# Create BeautifulSoup object; parse with 'html.parser'\n",
    "soup = bs(response.text, 'html.parser')\n",
    "# Examine the results, then determine element that contains sought info\n",
    "print(soup.prettify())"
   ]
  },
  {
   "cell_type": "code",
   "execution_count": null,
   "metadata": {},
   "outputs": [],
   "source": [
    "# results are returned as an iterable list\n",
    "results = soup.find_all('div', class_=\"ds-1col node node-organization article user-picture-available view-mode-search_result clearfix\")\n",
    "for r in results:\n",
    "    print(r.prettify())"
   ]
  },
  {
   "cell_type": "code",
   "execution_count": null,
   "metadata": {},
   "outputs": [],
   "source": [
    "organizations = []\n",
    "\n",
    "#Iterate through all pages\n",
    "for x in range(889):\n",
    "    #HTML object\n",
    "    html = browser.html\n",
    "    # Create BeautifulSoup object; parse with 'html.parser'\n",
    "    soup = bs(html, 'html.parser')\n",
    "    #Retrieve all elements that contain organization information in an iterable list\n",
    "    results = soup.find_all('div', class_=\"ds-1col node node-organization article user-picture-available view-mode-search_result clearfix\")\n",
    "    \n",
    "    #Iterate through each organization using Beautiful Soup's find methods\n",
    "    for r in results:\n",
    "        \n",
    "        #returns organization name\n",
    "        #returns organization name (first line)\n",
    "        try:\n",
    "            n_step = r.find(class_='field')\n",
    "            n_step2 = n_step.find('a')\n",
    "            name = n_step2.text\n",
    "        except:\n",
    "            name = ' '\n",
    "        #returns organization name (second line)    \n",
    "        try:\n",
    "            n2_step = r.find(class_='field-name-field-organization-name-2')\n",
    "            n2_step2 = n2_step.find('a')\n",
    "            name2 = n2_step2.text\n",
    "        except (NameError, AttributeError):\n",
    "            name2 = ' '\n",
    "        full_name = (name + ' ' + name2)\n",
    "        \n",
    "        #returns organization address\n",
    "        try:\n",
    "            a_step = r.find('section', class_='field')\n",
    "            a_step2 = a_step.find(class_='field-item even')\n",
    "            address = a_step2.text\n",
    "        except:\n",
    "            address = 'need info'\n",
    "                    \n",
    "        #returns organization phone number    \n",
    "        try:\n",
    "            p_step = r.find(class_='field-name-phone-number')\n",
    "            p_step2 = p_step.find(class_='field-item even')\n",
    "            phone_num = p_step2.text\n",
    "        except:\n",
    "            phone_num = 'need info'\n",
    "            \n",
    "        #place info into dictionary    \n",
    "        organizations.append({'Name':full_name, 'Address':address, 'Phone Number':phone_num})\n",
    "        \n",
    "    #Click the 'next' button on each page (will include try/except after I know it works)\n",
    "#    time.sleep(5)  # wait 5 seconds before clicking next button\n",
    "#    types of errors AttributeError, ElementDoesNotExist, IndexError\n",
    "    try:\n",
    "        browser.find_by_css('a.fsrDeclineButton').click()\n",
    "    except:\n",
    "        try:\n",
    "            browser.find_by_css('li.pager-next a.action-item').click()\n",
    "        except Exception as e:\n",
    "            print(e)\n",
    "\n",
    " #     try:\n",
    "#         browser.find_by_css('li.pager-next a.action-item').click()\n",
    "#     except:\n",
    "#          print('click error')             "
   ]
  },
  {
   "cell_type": "code",
   "execution_count": null,
   "metadata": {},
   "outputs": [],
   "source": [
    "org_df = pd.DataFrame(organizations, columns=['Name', 'Address', 'Phone Number'])\n",
    "org_df"
   ]
  },
  {
   "cell_type": "code",
   "execution_count": null,
   "metadata": {},
   "outputs": [],
   "source": [
    "org_df['Address'] = org_df['Address'].str.replace(',', '')\n",
    "org_df['Address']"
   ]
  },
  {
   "cell_type": "code",
   "execution_count": null,
   "metadata": {},
   "outputs": [],
   "source": [
    "# sorting by first name \n",
    "org_df.sort_values('Name', inplace = True) \n",
    "  \n",
    "# making a bool series \n",
    "bool_series = org_df['Name'].duplicated() \n",
    "  \n",
    "# displaying data \n",
    "org_df.head() \n",
    "  \n",
    "# display data \n",
    "org_df[bool_series]"
   ]
  },
  {
   "cell_type": "code",
   "execution_count": null,
   "metadata": {},
   "outputs": [],
   "source": [
    "# Export file as a CSV, without the Pandas index, but with the header\n",
    "org_df.to_csv(\"hiv_providers.csv\", index=True, header=True)"
   ]
  },
  {
   "cell_type": "code",
   "execution_count": null,
   "metadata": {},
   "outputs": [],
   "source": []
  },
  {
   "cell_type": "code",
   "execution_count": null,
   "metadata": {},
   "outputs": [],
   "source": [
    "csv = pd.read_csv(\"new_providers.csv\")"
   ]
  },
  {
   "cell_type": "code",
   "execution_count": null,
   "metadata": {},
   "outputs": [],
   "source": []
  },
  {
   "cell_type": "code",
   "execution_count": null,
   "metadata": {},
   "outputs": [],
   "source": []
  },
  {
   "cell_type": "code",
   "execution_count": null,
   "metadata": {},
   "outputs": [],
   "source": []
  },
  {
   "cell_type": "code",
   "execution_count": null,
   "metadata": {},
   "outputs": [],
   "source": [
    "# # Imports the method used for connecting to DBs\n",
    "# from sqlalchemy import create_engine\n",
    "# # Imports the methods needed to abstract classes into tables\n",
    "# from sqlalchemy.ext.declarative import declarative_base\n",
    "# # Allow us to declare column types\n",
    "# from sqlalchemy import Column, Integer, String, Float\n",
    "# from sqlalchemy.orm import Session"
   ]
  },
  {
   "cell_type": "code",
   "execution_count": null,
   "metadata": {},
   "outputs": [],
   "source": [
    " # Create Organization Class\n",
    "    \n",
    "# Sets an object to utilize the default declarative base in SQL Alchemy\n",
    "Base = declarative_base()\n",
    "\n",
    "# Creates Classes which will serve as the anchor points for our Tables\n",
    "class Organization(Base):\n",
    "    __tablename__ = 'org_data'\n",
    "    id = Column(Integer, primary_key=True)\n",
    "    name = Column(String(255))\n",
    "    address = Column(String(255))\n",
    "    phone_num = Column(String(255))"
   ]
  },
  {
   "cell_type": "code",
   "execution_count": null,
   "metadata": {},
   "outputs": [],
   "source": [
    " # Create Engine for organization data\n",
    "# org_db_path = \"../hiv_providers.sqlite\"\n",
    "engine = create_engine(f\"sqlite:///org_data.sqlite\")\n",
    "conn = engine.connect()"
   ]
  },
  {
   "cell_type": "code",
   "execution_count": null,
   "metadata": {},
   "outputs": [],
   "source": [
    "# Create a \"Metadata\" Layer That Abstracts our SQL Database\n",
    "# Create (if not already in existence) the tables associated with our classes.\n",
    "Base.metadata.create_all(engine)\n",
    "\n",
    "# Use this to clear out the db\n",
    "# Base.metadata.drop_all(engine)"
   ]
  },
  {
   "cell_type": "code",
   "execution_count": null,
   "metadata": {},
   "outputs": [],
   "source": [
    "# Create a Session Object to Connect to DB\n",
    "# Session is a temporary binding to our DB\n",
    "session = Session(bind=engine)"
   ]
  },
  {
   "cell_type": "code",
   "execution_count": null,
   "metadata": {},
   "outputs": [],
   "source": [
    "# Query All Records in the the Organizations Table\n",
    "org_data = pd.read_sql(\"SELECT * FROM Org_Data\", conn)\n",
    "org_data"
   ]
  },
  {
   "cell_type": "code",
   "execution_count": null,
   "metadata": {},
   "outputs": [],
   "source": [
    "org_df = pd.read_csv(\"hiv_providers.csv\")\n",
    "org_df.head()"
   ]
  },
  {
   "cell_type": "code",
   "execution_count": null,
   "metadata": {},
   "outputs": [],
   "source": [
    "org_df['Address'] = org_df['Address'].str.replace(',', '')"
   ]
  },
  {
   "cell_type": "code",
   "execution_count": null,
   "metadata": {},
   "outputs": [],
   "source": [
    "org_df['Address']"
   ]
  },
  {
   "cell_type": "code",
   "execution_count": null,
   "metadata": {},
   "outputs": [],
   "source": []
  },
  {
   "cell_type": "code",
   "execution_count": null,
   "metadata": {},
   "outputs": [],
   "source": []
  },
  {
   "cell_type": "code",
   "execution_count": null,
   "metadata": {},
   "outputs": [],
   "source": []
  },
  {
   "cell_type": "code",
   "execution_count": null,
   "metadata": {},
   "outputs": [],
   "source": []
  },
  {
   "cell_type": "code",
   "execution_count": null,
   "metadata": {},
   "outputs": [],
   "source": [
    "# Loop through returned results\n",
    "for nexts in next_results:\n",
    "    # Error handling\n",
    "     try:\n",
    "        # Identify and return title of listing\n",
    "        contact_info = nexts.find('div', class_='field-item even').text\n",
    "\n",
    "#        # Print results only if title, price, and link are available\n",
    "#        if (address):\n",
    "        print(contact_info)\n",
    "#             print(phone_num)\n",
    "            \n",
    "            \n",
    "        # Dictionary to be inserted as a MongoDB document\n",
    "#             post = {\n",
    "#                 'title': title,\n",
    "#                 'price': price,\n",
    "#                 'url': link\n",
    "#             }\n",
    "\n",
    "#             collection.insert_one(post)\n",
    "#    except AttributeError as e:\n",
    "#        print(e)"
   ]
  },
  {
   "cell_type": "code",
   "execution_count": null,
   "metadata": {},
   "outputs": [],
   "source": [
    "# Display items in MongoDB collection\n",
    "listings = db.items.find()\n",
    "\n",
    "for listing in listings:\n",
    "    print(listing)"
   ]
  },
  {
   "cell_type": "code",
   "execution_count": null,
   "metadata": {},
   "outputs": [],
   "source": []
  },
  {
   "cell_type": "code",
   "execution_count": null,
   "metadata": {},
   "outputs": [],
   "source": []
  }
 ],
 "metadata": {
  "kernelspec": {
   "display_name": "Python 3",
   "language": "python",
   "name": "python3"
  },
  "language_info": {
   "codemirror_mode": {
    "name": "ipython",
    "version": 3
   },
   "file_extension": ".py",
   "mimetype": "text/x-python",
   "name": "python",
   "nbconvert_exporter": "python",
   "pygments_lexer": "ipython3",
   "version": "3.7.3"
  }
 },
 "nbformat": 4,
 "nbformat_minor": 2
}
